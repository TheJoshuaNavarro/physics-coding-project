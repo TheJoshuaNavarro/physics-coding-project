{
 "cells": [
  {
   "cell_type": "code",
   "execution_count": 1,
   "id": "666d3716-05ef-41b4-ba86-32b71c8d878a",
   "metadata": {},
   "outputs": [
    {
     "data": {
      "text/html": [
       "<div id=\"glowscript\" class=\"glowscript\"></div>"
      ],
      "text/plain": [
       "<IPython.core.display.HTML object>"
      ]
     },
     "metadata": {},
     "output_type": "display_data"
    },
    {
     "data": {
      "application/javascript": [
       "if (typeof Jupyter !== \"undefined\") { window.__context = { glowscript_container: $(\"#glowscript\").removeAttr(\"id\")};}else{ element.textContent = ' ';}"
      ],
      "text/plain": [
       "<IPython.core.display.Javascript object>"
      ]
     },
     "metadata": {},
     "output_type": "display_data"
    },
    {
     "data": {
      "text/html": [
       "<div id=\"glowscript\" class=\"glowscript\"></div>"
      ],
      "text/plain": [
       "<IPython.core.display.HTML object>"
      ]
     },
     "metadata": {},
     "output_type": "display_data"
    },
    {
     "data": {
      "application/javascript": [
       "if (typeof Jupyter !== \"undefined\") { window.__context = { glowscript_container: $(\"#glowscript\").removeAttr(\"id\")};}else{ element.textContent = ' ';}"
      ],
      "text/plain": [
       "<IPython.core.display.Javascript object>"
      ]
     },
     "metadata": {},
     "output_type": "display_data"
    }
   ],
   "source": [
    "\"\"\"\n",
    "-------------------------------------------------------------------------\n",
    "Name:            Joshua Navarro\n",
    "Date:            February 25\n",
    "Project #:       1\n",
    "Status:          Completed\n",
    "Class:           PHYS 2425\n",
    "-------------------------------------------------------------------------\n",
    "Objective:  \n",
    "Simulate a tennis ball's motion with gravity and an elastic wall collision,  \n",
    "and plot position and velocity over time.\n",
    "-------------------------------------------------------------------------\n",
    "\"\"\"\n",
    "\n",
    "import vpython as vp\n",
    "\n",
    "# Create scene\n",
    "scene = vp.canvas()\n",
    "scene\n",
    "\n",
    "# Create objects\n",
    "ball = vp.sphere(pos=vp.vector(0, 2, 0), radius=0.3, color=vp.color.cyan)\n",
    "wall = vp.box(pos=vp.vector(8, 0, 0), size=vp.vector(0.1, 5, 5), color=vp.color.magenta)\n",
    "\n",
    "# Initial velocity\n",
    "vel = vp.vector(15, 0, 0)  # m/s\n",
    "\n",
    "# Graphs\n",
    "position_graph = vp.graph(title='X Position vs Time', xtitle='Time (s)', ytitle='X Position (m)')\n",
    "xGraph = vp.gcurve(graph=position_graph, color=vp.color.blue)\n",
    "\n",
    "velocity_graph = vp.graph(title='X Velocity vs Time', xtitle='Time (s)', ytitle='X Velocity (m/s)')\n",
    "vxGraph = vp.gcurve(graph=velocity_graph, color=vp.color.red)\n",
    "\n",
    "position_y_graph = vp.graph(title='Y Position vs Time', xtitle='Time (s)', ytitle='Y Position (m)')\n",
    "yGraph = vp.gcurve(graph = position_y_graph, color=vp.color.green)\n",
    "\n",
    "velocity_y_graph = vp.graph(title='Y Velocity vs Time', xtitle='Time (s)', ytitle='Y Velocity (m/s)')\n",
    "vyGraph = vp.gcurve(graph = velocity_y_graph, color=vp.color.black)\n",
    "\n",
    "# Time variables\n",
    "t = 0\n",
    "dt = 0.001\n",
    "tmax = 1\n",
    "g = vp.vector(0,-9.81, 0)\n",
    "\n",
    "# Animation loop\n",
    "while t < tmax:\n",
    "    vp.rate(200)  # Controls simulation speed\n",
    "    \n",
    "    vel = vel + g*dt\n",
    "    \n",
    "    # Update ball position\n",
    "    ball.pos = ball.pos + vel * dt\n",
    "\n",
    "    # Collision check\n",
    "    if ball.pos.x >= (wall.pos.x - ball.radius):\n",
    "        vel.x = -vel.x  # Reverse velocity\n",
    "\n",
    "    \n",
    "    xGraph.plot(t, float(ball.pos.x))\n",
    "    vxGraph.plot(t, float(vel.x))\n",
    "    yGraph.plot(t, float(ball.pos.y))\n",
    "    vyGraph.plot(t, float(vel.y))\n",
    "\n",
    "    # Increment time\n",
    "    t += dt\n"
   ]
  },
  {
   "cell_type": "code",
   "execution_count": null,
   "id": "4797afd6-d5f5-4a33-a069-4d8c9690f808",
   "metadata": {},
   "outputs": [],
   "source": []
  }
 ],
 "metadata": {
  "kernelspec": {
   "display_name": "Python 3 (ipykernel)",
   "language": "python",
   "name": "python3"
  },
  "language_info": {
   "codemirror_mode": {
    "name": "ipython",
    "version": 3
   },
   "file_extension": ".py",
   "mimetype": "text/x-python",
   "name": "python",
   "nbconvert_exporter": "python",
   "pygments_lexer": "ipython3",
   "version": "3.12.7"
  }
 },
 "nbformat": 4,
 "nbformat_minor": 5
}
