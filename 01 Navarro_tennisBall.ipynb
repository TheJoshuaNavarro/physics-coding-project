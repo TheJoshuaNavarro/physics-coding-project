{
 "cells": [
  {
   "cell_type": "code",
   "execution_count": 3,
   "id": "666d3716-05ef-41b4-ba86-32b71c8d878a",
   "metadata": {},
   "outputs": [
    {
     "data": {
      "text/html": [
       "<div id=\"glowscript\" class=\"glowscript\"></div>"
      ],
      "text/plain": [
       "<IPython.core.display.HTML object>"
      ]
     },
     "metadata": {},
     "output_type": "display_data"
    },
    {
     "data": {
      "application/javascript": "if (typeof Jupyter !== \"undefined\") { window.__context = { glowscript_container: $(\"#glowscript\").removeAttr(\"id\")};}else{ element.textContent = ' ';}",
      "text/plain": [
       "<IPython.core.display.Javascript object>"
      ]
     },
     "metadata": {},
     "output_type": "display_data"
    },
    {
     "ename": "KeyboardInterrupt",
     "evalue": "",
     "output_type": "error",
     "traceback": [
      "\u001b[1;31m---------------------------------------------------------------------------\u001b[0m",
      "\u001b[1;31mKeyboardInterrupt\u001b[0m                         Traceback (most recent call last)",
      "Cell \u001b[1;32mIn[3], line 22\u001b[0m\n\u001b[0;32m     19\u001b[0m scene\n\u001b[0;32m     21\u001b[0m \u001b[38;5;66;03m# Create objects\u001b[39;00m\n\u001b[1;32m---> 22\u001b[0m ball \u001b[38;5;241m=\u001b[39m vp\u001b[38;5;241m.\u001b[39msphere(pos\u001b[38;5;241m=\u001b[39mvp\u001b[38;5;241m.\u001b[39mvector(\u001b[38;5;241m0\u001b[39m, \u001b[38;5;241m2\u001b[39m, \u001b[38;5;241m0\u001b[39m), radius\u001b[38;5;241m=\u001b[39m\u001b[38;5;241m0.3\u001b[39m, color\u001b[38;5;241m=\u001b[39mvp\u001b[38;5;241m.\u001b[39mcolor\u001b[38;5;241m.\u001b[39mcyan)\n\u001b[0;32m     23\u001b[0m wall \u001b[38;5;241m=\u001b[39m vp\u001b[38;5;241m.\u001b[39mbox(pos\u001b[38;5;241m=\u001b[39mvp\u001b[38;5;241m.\u001b[39mvector(\u001b[38;5;241m8\u001b[39m, \u001b[38;5;241m0\u001b[39m, \u001b[38;5;241m0\u001b[39m), size\u001b[38;5;241m=\u001b[39mvp\u001b[38;5;241m.\u001b[39mvector(\u001b[38;5;241m0.1\u001b[39m, \u001b[38;5;241m5\u001b[39m, \u001b[38;5;241m5\u001b[39m), color\u001b[38;5;241m=\u001b[39mvp\u001b[38;5;241m.\u001b[39mcolor\u001b[38;5;241m.\u001b[39mmagenta)\n\u001b[0;32m     25\u001b[0m \u001b[38;5;66;03m# Initial velocity\u001b[39;00m\n",
      "File \u001b[1;32mc:\\Users\\mjnav\\anaconda3\\Lib\\site-packages\\vpython\\vpython.py:1189\u001b[0m, in \u001b[0;36msphere.__init__\u001b[1;34m(self, **args)\u001b[0m\n\u001b[0;32m   1187\u001b[0m args[\u001b[38;5;124m'\u001b[39m\u001b[38;5;124m_default_size\u001b[39m\u001b[38;5;124m'\u001b[39m] \u001b[38;5;241m=\u001b[39m vector(\u001b[38;5;241m2\u001b[39m,\u001b[38;5;241m2\u001b[39m,\u001b[38;5;241m2\u001b[39m)\n\u001b[0;32m   1188\u001b[0m args[\u001b[38;5;124m'\u001b[39m\u001b[38;5;124m_objName\u001b[39m\u001b[38;5;124m'\u001b[39m] \u001b[38;5;241m=\u001b[39m \u001b[38;5;124m\"\u001b[39m\u001b[38;5;124msphere\u001b[39m\u001b[38;5;124m\"\u001b[39m\n\u001b[1;32m-> 1189\u001b[0m \u001b[38;5;28msuper\u001b[39m(sphere, \u001b[38;5;28mself\u001b[39m)\u001b[38;5;241m.\u001b[39msetup(args)\n\u001b[0;32m   1190\u001b[0m \u001b[38;5;28mself\u001b[39m\u001b[38;5;241m.\u001b[39m_sizing \u001b[38;5;241m=\u001b[39m \u001b[38;5;28;01mFalse\u001b[39;00m\n",
      "File \u001b[1;32mc:\\Users\\mjnav\\anaconda3\\Lib\\site-packages\\vpython\\vpython.py:612\u001b[0m, in \u001b[0;36mstandardAttributes.setup\u001b[1;34m(self, args)\u001b[0m\n\u001b[0;32m    611\u001b[0m \u001b[38;5;28;01mdef\u001b[39;00m \u001b[38;5;21msetup\u001b[39m(\u001b[38;5;28mself\u001b[39m, args):\n\u001b[1;32m--> 612\u001b[0m     \u001b[38;5;28msuper\u001b[39m(standardAttributes, \u001b[38;5;28mself\u001b[39m)\u001b[38;5;241m.\u001b[39m\u001b[38;5;21m__init__\u001b[39m()\n\u001b[0;32m    613\u001b[0m     \u001b[38;5;28mself\u001b[39m\u001b[38;5;241m.\u001b[39m_constructing \u001b[38;5;241m=\u001b[39m \u001b[38;5;28;01mTrue\u001b[39;00m  \u001b[38;5;66;03m## calls to setters are from constructor\u001b[39;00m\n\u001b[0;32m    615\u001b[0m     objName \u001b[38;5;241m=\u001b[39m \u001b[38;5;28mself\u001b[39m\u001b[38;5;241m.\u001b[39m_objName \u001b[38;5;241m=\u001b[39m args[\u001b[38;5;124m'\u001b[39m\u001b[38;5;124m_objName\u001b[39m\u001b[38;5;124m'\u001b[39m]  \u001b[38;5;66;03m## identifies object type\u001b[39;00m\n",
      "File \u001b[1;32mc:\\Users\\mjnav\\anaconda3\\Lib\\site-packages\\vpython\\vpython.py:265\u001b[0m, in \u001b[0;36mbaseObj.__init__\u001b[1;34m(self, **kwargs)\u001b[0m\n\u001b[0;32m    262\u001b[0m \u001b[38;5;28;01mif\u001b[39;00m \u001b[38;5;129;01mnot\u001b[39;00m (baseObj\u001b[38;5;241m.\u001b[39m_view_constructed \u001b[38;5;129;01mor\u001b[39;00m\n\u001b[0;32m    263\u001b[0m         baseObj\u001b[38;5;241m.\u001b[39m_canvas_constructing):\n\u001b[0;32m    264\u001b[0m     \u001b[38;5;28;01mif\u001b[39;00m _isnotebook:\n\u001b[1;32m--> 265\u001b[0m         \u001b[38;5;28;01mfrom\u001b[39;00m \u001b[38;5;21;01m.\u001b[39;00m\u001b[38;5;21;01mwith_notebook\u001b[39;00m \u001b[38;5;28;01mimport\u001b[39;00m _\n\u001b[0;32m    266\u001b[0m     \u001b[38;5;28;01melse\u001b[39;00m:\n\u001b[0;32m    267\u001b[0m         \u001b[38;5;28;01mfrom\u001b[39;00m \u001b[38;5;21;01m.\u001b[39;00m\u001b[38;5;21;01mno_notebook\u001b[39;00m \u001b[38;5;28;01mimport\u001b[39;00m _\n",
      "File \u001b[1;32mc:\\Users\\mjnav\\anaconda3\\Lib\\site-packages\\vpython\\with_notebook.py:154\u001b[0m\n\u001b[0;32m    152\u001b[0m baseObj\u001b[38;5;241m.\u001b[39mglow \u001b[38;5;241m=\u001b[39m GlowWidget(wsport\u001b[38;5;241m=\u001b[39m__SOCKET_PORT, wsuri\u001b[38;5;241m=\u001b[39m\u001b[38;5;124m'\u001b[39m\u001b[38;5;124m/ws\u001b[39m\u001b[38;5;124m'\u001b[39m)\n\u001b[0;32m    153\u001b[0m \u001b[38;5;28;01mwhile\u001b[39;00m (\u001b[38;5;129;01mnot\u001b[39;00m wsConnected):\n\u001b[1;32m--> 154\u001b[0m     time\u001b[38;5;241m.\u001b[39msleep(\u001b[38;5;241m0.1\u001b[39m)          \u001b[38;5;66;03m# wait for websocket to connect\u001b[39;00m\n\u001b[0;32m    156\u001b[0m baseObj\u001b[38;5;241m.\u001b[39mtrigger()  \u001b[38;5;66;03m# start the trigger ping-pong process\u001b[39;00m\n\u001b[0;32m    159\u001b[0m \u001b[38;5;66;03m# Same justification as above for removing the ipykernel check.\u001b[39;00m\n\u001b[0;32m    160\u001b[0m \u001b[38;5;66;03m# There was also an IPython version check for >=4, which was\u001b[39;00m\n\u001b[0;32m    161\u001b[0m \u001b[38;5;66;03m# released in Nov 2015. Ok to stop supporting in 2.019 I think.\u001b[39;00m\n",
      "\u001b[1;31mKeyboardInterrupt\u001b[0m: "
     ]
    }
   ],
   "source": [
    "\"\"\"\n",
    "-------------------------------------------------------------------------\n",
    "Name:            Joshua Navarro\n",
    "Date:            February 25\n",
    "Project #:       1\n",
    "Status:          Completed\n",
    "Class:           PHYS 2425\n",
    "-------------------------------------------------------------------------\n",
    "Objective:  \n",
    "Simulate a tennis ball's motion with gravity and an elastic wall collision,  \n",
    "and plot position and velocity over time.\n",
    "-------------------------------------------------------------------------\n",
    "\"\"\"\n",
    "\n",
    "import vpython as vp\n",
    "\n",
    "# Create scene\n",
    "scene = vp.canvas()\n",
    "scene\n",
    "\n",
    "# Create objects\n",
    "ball = vp.sphere(pos=vp.vector(0, 2, 0), radius=0.3, color=vp.color.cyan)\n",
    "wall = vp.box(pos=vp.vector(8, 0, 0), size=vp.vector(0.1, 5, 5), color=vp.color.magenta)\n",
    "\n",
    "# Initial velocity\n",
    "vel = vp.vector(15, 0, 0)  # m/s\n",
    "\n",
    "# Graphs\n",
    "position_graph = vp.graph(title='X Position vs Time', xtitle='Time (s)', ytitle='X Position (m)')\n",
    "xGraph = vp.gcurve(graph=position_graph, color=vp.color.blue)\n",
    "\n",
    "velocity_graph = vp.graph(title='X Velocity vs Time', xtitle='Time (s)', ytitle='X Velocity (m/s)')\n",
    "vxGraph = vp.gcurve(graph=velocity_graph, color=vp.color.red)\n",
    "\n",
    "position_y_graph = vp.graph(title='Y Position vs Time', xtitle='Time (s)', ytitle='Y Position (m)')\n",
    "yGraph = vp.gcurve(graph = position_y_graph, color=vp.color.green)\n",
    "\n",
    "velocity_y_graph = vp.graph(title='Y Velocity vs Time', xtitle='Time (s)', ytitle='Y Velocity (m/s)')\n",
    "vyGraph = vp.gcurve(graph = velocity_y_graph, color=vp.color.black)\n",
    "\n",
    "# Time variables\n",
    "t = 0\n",
    "dt = 0.005\n",
    "tmax = 1\n",
    "g = vp.vector(0,-9.81, 0)\n",
    "\n",
    "# Animation loop\n",
    "while t < tmax:\n",
    "    vp.rate(200)  # Controls simulation speed\n",
    "    \n",
    "    vel = vel + g*dt\n",
    "    \n",
    "    # Update ball position\n",
    "    ball.pos = ball.pos + vel * dt\n",
    "\n",
    "    # Collision check\n",
    "    if ball.pos.x >= (wall.pos.x - ball.radius):\n",
    "        vel.x = -vel.x  # Reverse velocity\n",
    "\n",
    "    \n",
    "    xGraph.plot(t, float(ball.pos.x))\n",
    "    vxGraph.plot(t, float(vel.x))\n",
    "    yGraph.plot(t, float(ball.pos.y))\n",
    "    vyGraph.plot(t, float(vel.y))\n",
    "\n",
    "    # Increment time\n",
    "    t += dt\n"
   ]
  },
  {
   "cell_type": "code",
   "execution_count": null,
   "id": "4797afd6-d5f5-4a33-a069-4d8c9690f808",
   "metadata": {},
   "outputs": [],
   "source": []
  }
 ],
 "metadata": {
  "kernelspec": {
   "display_name": "base",
   "language": "python",
   "name": "python3"
  },
  "language_info": {
   "codemirror_mode": {
    "name": "ipython",
    "version": 3
   },
   "file_extension": ".py",
   "mimetype": "text/x-python",
   "name": "python",
   "nbconvert_exporter": "python",
   "pygments_lexer": "ipython3",
   "version": "3.12.7"
  }
 },
 "nbformat": 4,
 "nbformat_minor": 5
}
