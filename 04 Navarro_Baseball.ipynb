{
 "cells": [
  {
   "cell_type": "code",
   "execution_count": 2,
   "id": "611facfe",
   "metadata": {},
   "outputs": [
    {
     "data": {
      "text/html": [
       "<div id=\"glowscript\" class=\"glowscript\"></div>"
      ],
      "text/plain": [
       "<IPython.core.display.HTML object>"
      ]
     },
     "metadata": {},
     "output_type": "display_data"
    },
    {
     "data": {
      "application/javascript": "if (typeof Jupyter !== \"undefined\") { window.__context = { glowscript_container: $(\"#glowscript\").removeAttr(\"id\")};}else{ element.textContent = ' ';}",
      "text/plain": [
       "<IPython.core.display.Javascript object>"
      ]
     },
     "metadata": {},
     "output_type": "display_data"
    },
    {
     "data": {
      "text/html": [
       "<div id=\"glowscript\" class=\"glowscript\"></div>"
      ],
      "text/plain": [
       "<IPython.core.display.HTML object>"
      ]
     },
     "metadata": {},
     "output_type": "display_data"
    },
    {
     "data": {
      "application/javascript": "if (typeof Jupyter !== \"undefined\") { window.__context = { glowscript_container: $(\"#glowscript\").removeAttr(\"id\")};}else{ element.textContent = ' ';}",
      "text/plain": [
       "<IPython.core.display.Javascript object>"
      ]
     },
     "metadata": {},
     "output_type": "display_data"
    },
    {
     "ename": "KeyboardInterrupt",
     "evalue": "",
     "output_type": "error",
     "traceback": [
      "\u001b[1;31m---------------------------------------------------------------------------\u001b[0m",
      "\u001b[1;31mKeyboardInterrupt\u001b[0m                         Traceback (most recent call last)",
      "Cell \u001b[1;32mIn[2], line 23\u001b[0m\n\u001b[0;32m     21\u001b[0m scene\u001b[38;5;241m.\u001b[39mcenter \u001b[38;5;241m=\u001b[39m vp\u001b[38;5;241m.\u001b[39mvector(\u001b[38;5;241m50\u001b[39m, \u001b[38;5;241m5\u001b[39m, \u001b[38;5;241m0\u001b[39m)\n\u001b[0;32m     22\u001b[0m scene\u001b[38;5;241m.\u001b[39mrange \u001b[38;5;241m=\u001b[39m \u001b[38;5;241m60\u001b[39m\n\u001b[1;32m---> 23\u001b[0m ground \u001b[38;5;241m=\u001b[39m vp\u001b[38;5;241m.\u001b[39mbox(pos\u001b[38;5;241m=\u001b[39mvp\u001b[38;5;241m.\u001b[39mvector(\u001b[38;5;241m50\u001b[39m, \u001b[38;5;241m0\u001b[39m, \u001b[38;5;241m0\u001b[39m), size\u001b[38;5;241m=\u001b[39mvp\u001b[38;5;241m.\u001b[39mvector(\u001b[38;5;241m100\u001b[39m, \u001b[38;5;241m0.1\u001b[39m, \u001b[38;5;241m10\u001b[39m), color\u001b[38;5;241m=\u001b[39mvp\u001b[38;5;241m.\u001b[39mcolor\u001b[38;5;241m.\u001b[39mmagenta)\n\u001b[0;32m     25\u001b[0m \u001b[38;5;66;03m# Constants\u001b[39;00m\n\u001b[0;32m     26\u001b[0m r \u001b[38;5;241m=\u001b[39m \u001b[38;5;241m0.037\u001b[39m  \u001b[38;5;66;03m# radius of the baseball (in meters)\u001b[39;00m\n",
      "File \u001b[1;32mc:\\Users\\mjnav\\anaconda3\\Lib\\site-packages\\vpython\\vpython.py:1183\u001b[0m, in \u001b[0;36mbox.__init__\u001b[1;34m(self, **args)\u001b[0m\n\u001b[0;32m   1181\u001b[0m args[\u001b[38;5;124m'\u001b[39m\u001b[38;5;124m_default_size\u001b[39m\u001b[38;5;124m'\u001b[39m] \u001b[38;5;241m=\u001b[39m vector(\u001b[38;5;241m1\u001b[39m,\u001b[38;5;241m1\u001b[39m,\u001b[38;5;241m1\u001b[39m)\n\u001b[0;32m   1182\u001b[0m args[\u001b[38;5;124m'\u001b[39m\u001b[38;5;124m_objName\u001b[39m\u001b[38;5;124m'\u001b[39m] \u001b[38;5;241m=\u001b[39m \u001b[38;5;124m\"\u001b[39m\u001b[38;5;124mbox\u001b[39m\u001b[38;5;124m\"\u001b[39m\n\u001b[1;32m-> 1183\u001b[0m \u001b[38;5;28msuper\u001b[39m(box, \u001b[38;5;28mself\u001b[39m)\u001b[38;5;241m.\u001b[39msetup(args)\n",
      "File \u001b[1;32mc:\\Users\\mjnav\\anaconda3\\Lib\\site-packages\\vpython\\vpython.py:612\u001b[0m, in \u001b[0;36mstandardAttributes.setup\u001b[1;34m(self, args)\u001b[0m\n\u001b[0;32m    611\u001b[0m \u001b[38;5;28;01mdef\u001b[39;00m \u001b[38;5;21msetup\u001b[39m(\u001b[38;5;28mself\u001b[39m, args):\n\u001b[1;32m--> 612\u001b[0m     \u001b[38;5;28msuper\u001b[39m(standardAttributes, \u001b[38;5;28mself\u001b[39m)\u001b[38;5;241m.\u001b[39m\u001b[38;5;21m__init__\u001b[39m()\n\u001b[0;32m    613\u001b[0m     \u001b[38;5;28mself\u001b[39m\u001b[38;5;241m.\u001b[39m_constructing \u001b[38;5;241m=\u001b[39m \u001b[38;5;28;01mTrue\u001b[39;00m  \u001b[38;5;66;03m## calls to setters are from constructor\u001b[39;00m\n\u001b[0;32m    615\u001b[0m     objName \u001b[38;5;241m=\u001b[39m \u001b[38;5;28mself\u001b[39m\u001b[38;5;241m.\u001b[39m_objName \u001b[38;5;241m=\u001b[39m args[\u001b[38;5;124m'\u001b[39m\u001b[38;5;124m_objName\u001b[39m\u001b[38;5;124m'\u001b[39m]  \u001b[38;5;66;03m## identifies object type\u001b[39;00m\n",
      "File \u001b[1;32mc:\\Users\\mjnav\\anaconda3\\Lib\\site-packages\\vpython\\vpython.py:265\u001b[0m, in \u001b[0;36mbaseObj.__init__\u001b[1;34m(self, **kwargs)\u001b[0m\n\u001b[0;32m    262\u001b[0m \u001b[38;5;28;01mif\u001b[39;00m \u001b[38;5;129;01mnot\u001b[39;00m (baseObj\u001b[38;5;241m.\u001b[39m_view_constructed \u001b[38;5;129;01mor\u001b[39;00m\n\u001b[0;32m    263\u001b[0m         baseObj\u001b[38;5;241m.\u001b[39m_canvas_constructing):\n\u001b[0;32m    264\u001b[0m     \u001b[38;5;28;01mif\u001b[39;00m _isnotebook:\n\u001b[1;32m--> 265\u001b[0m         \u001b[38;5;28;01mfrom\u001b[39;00m \u001b[38;5;21;01m.\u001b[39;00m\u001b[38;5;21;01mwith_notebook\u001b[39;00m \u001b[38;5;28;01mimport\u001b[39;00m _\n\u001b[0;32m    266\u001b[0m     \u001b[38;5;28;01melse\u001b[39;00m:\n\u001b[0;32m    267\u001b[0m         \u001b[38;5;28;01mfrom\u001b[39;00m \u001b[38;5;21;01m.\u001b[39;00m\u001b[38;5;21;01mno_notebook\u001b[39;00m \u001b[38;5;28;01mimport\u001b[39;00m _\n",
      "File \u001b[1;32mc:\\Users\\mjnav\\anaconda3\\Lib\\site-packages\\vpython\\with_notebook.py:154\u001b[0m\n\u001b[0;32m    152\u001b[0m baseObj\u001b[38;5;241m.\u001b[39mglow \u001b[38;5;241m=\u001b[39m GlowWidget(wsport\u001b[38;5;241m=\u001b[39m__SOCKET_PORT, wsuri\u001b[38;5;241m=\u001b[39m\u001b[38;5;124m'\u001b[39m\u001b[38;5;124m/ws\u001b[39m\u001b[38;5;124m'\u001b[39m)\n\u001b[0;32m    153\u001b[0m \u001b[38;5;28;01mwhile\u001b[39;00m (\u001b[38;5;129;01mnot\u001b[39;00m wsConnected):\n\u001b[1;32m--> 154\u001b[0m     time\u001b[38;5;241m.\u001b[39msleep(\u001b[38;5;241m0.1\u001b[39m)          \u001b[38;5;66;03m# wait for websocket to connect\u001b[39;00m\n\u001b[0;32m    156\u001b[0m baseObj\u001b[38;5;241m.\u001b[39mtrigger()  \u001b[38;5;66;03m# start the trigger ping-pong process\u001b[39;00m\n\u001b[0;32m    159\u001b[0m \u001b[38;5;66;03m# Same justification as above for removing the ipykernel check.\u001b[39;00m\n\u001b[0;32m    160\u001b[0m \u001b[38;5;66;03m# There was also an IPython version check for >=4, which was\u001b[39;00m\n\u001b[0;32m    161\u001b[0m \u001b[38;5;66;03m# released in Nov 2015. Ok to stop supporting in 2.019 I think.\u001b[39;00m\n",
      "\u001b[1;31mKeyboardInterrupt\u001b[0m: "
     ]
    }
   ],
   "source": [
    "\"\"\"\n",
    "-------------------------------------------------------------------------\n",
    "Name:            Joshua Navarro\n",
    "Date:            April 08\n",
    "Project #:       4\n",
    "Status:          Final Version\n",
    "Class:           PHYS 2425\n",
    "-------------------------------------------------------------------------\n",
    "Objective:  \n",
    "Simulate the trajectory of a baseball thrown at 40° with and without air drag.\n",
    "Track flight time, landing position, maximum height, and final velocity.\n",
    "-------------------------------------------------------------------------\n",
    "\"\"\"\n",
    "\n",
    "import vpython as vp\n",
    "import numpy as np\n",
    "import matplotlib.pyplot as plt\n",
    "\n",
    "# Create Scene\n",
    "scene = vp.canvas(title=\"Baseball Trajectory with and without Air Drag\")\n",
    "scene.center = vp.vector(50, 5, 0)\n",
    "scene.range = 60\n",
    "ground = vp.box(pos=vp.vector(50, 0, 0), size=vp.vector(100, 0.1, 10), color=vp.color.magenta)\n",
    "\n",
    "# Constants\n",
    "r = 0.037  # radius of the baseball (in meters)\n",
    "A = np.pi * r**2  # area facing air resistance (cross-sectional area)\n",
    "C = 0.3           # drag coefficient for a baseball\n",
    "m = 0.145         # mass of the baseball in kilograms\n",
    "g = vp.vector(0, -9.81, 0)  # acceleration due to gravity\n",
    "rho = 1.2         # air density in kg/m^3\n",
    "vel_initial = 31.29  # initial speed in m/s (converted from 70 mph)\n",
    "theta = np.deg2rad(40)  # convert angle from degrees to radians\n",
    "\n",
    "# Initial velocities\n",
    "v_One = vp.vector(vel_initial * np.cos(theta), vel_initial * np.sin(theta), 0)  # with drag\n",
    "v_Two = vp.vector(vel_initial * np.cos(theta), vel_initial * np.sin(theta), 0)  # no drag\n",
    "\n",
    "# Create Objects\n",
    "baseballOne = vp.sphere(pos=vp.vector(0, 2, 0), radius=r, color=vp.color.blue, make_trail=True)\n",
    "baseballTwo = vp.sphere(pos=vp.vector(0, 2, 0), radius=r, color=vp.color.green, make_trail=True)\n",
    "\n",
    "# Labels\n",
    "label_drag = vp.label(pos=baseballOne.pos, text=\"With Air Drag\", height=10, box=False)\n",
    "label_nodrag = vp.label(pos=baseballTwo.pos, text=\"No Air Drag\", height=10, box=False)\n",
    "\n",
    "# Time variables\n",
    "t = 0\n",
    "dt = 0.01\n",
    "\n",
    "# Tracking max height\n",
    "max_height_drag = baseballOne.pos.y\n",
    "max_height_nodrag = baseballTwo.pos.y\n",
    "\n",
    "# Store data for graphing\n",
    "t_list = []\n",
    "\n",
    "x_drag = []\n",
    "y_drag = []\n",
    "v_drag = []\n",
    "\n",
    "x_nodrag = []\n",
    "y_nodrag = []\n",
    "v_nodrag = []\n",
    "\n",
    "# Simulation loop\n",
    "while baseballOne.pos.y > 0 or baseballTwo.pos.y > 0:\n",
    "    vp.rate(200)  # control the animation speed\n",
    "\n",
    "    #With Air Drag\n",
    "    if baseballOne.pos.y > 0:\n",
    "        speed = np.sqrt(v_One.x**2 + v_One.y**2)\n",
    "        drag_force = -0.5 * C * A * rho * speed**2 * vp.hat(v_One)\n",
    "        total_force = m * g + drag_force\n",
    "        acceleration = total_force / m\n",
    "        v_One = v_One + acceleration * dt\n",
    "        baseballOne.pos = baseballOne.pos + v_One * dt\n",
    "        max_height_drag = max(max_height_drag, baseballOne.pos.y)\n",
    "        label_drag.pos = baseballOne.pos\n",
    "\n",
    "    #Without Air Drag\n",
    "    if baseballTwo.pos.y > 0:\n",
    "        acceleration = g  # only gravity acts here\n",
    "        v_Two = v_Two + acceleration * dt\n",
    "        baseballTwo.pos = baseballTwo.pos + v_Two * dt\n",
    "        max_height_nodrag = max(max_height_nodrag, baseballTwo.pos.y)\n",
    "        label_nodrag.pos = baseballTwo.pos\n",
    "\n",
    "    # Save data for plotting\n",
    "    t_list.append(t)\n",
    "\n",
    "    x_drag.append(baseballOne.pos.x)\n",
    "    y_drag.append(baseballOne.pos.y)\n",
    "    v_drag.append(np.sqrt(v_One.x**2 + v_One.y**2))\n",
    "\n",
    "    x_nodrag.append(baseballTwo.pos.x)\n",
    "    y_nodrag.append(baseballTwo.pos.y)\n",
    "    v_nodrag.append(np.sqrt(v_Two.x**2 + v_Two.y**2))\n",
    "\n",
    "    t = t + dt  # update the time\n",
    "\n",
    "# Final values\n",
    "print(\"Trajectory with Air Drag:\")\n",
    "print(\"  Total time in air: \", round(t, 2), \"seconds\")\n",
    "print(\"  Horizontal distance traveled: \", round(baseballOne.pos.x, 2), \"meters\")\n",
    "print(\"  Highest point reached: \", round(max_height_drag, 2), \"meters\")\n",
    "print(\"  Speed just before hitting the ground: \", round(np.sqrt(v_One.x**2 + v_One.y**2), 2), \"m/s\")\n",
    "print(\"  Angle of motion at impact: \", round(np.arctan2(v_One.y, v_One.x) * 180 / np.pi, 2), \"degrees\")\n",
    "\n",
    "print(\"\\nTrajectory without Air Drag:\")\n",
    "print(\"  Total time in air: \", round(t, 2), \"seconds\")\n",
    "print(\"  Horizontal distance traveled: \", round(baseballTwo.pos.x, 2), \"meters\")\n",
    "print(\"  Highest point reached: \", round(max_height_nodrag, 2), \"meters\")\n",
    "print(\"  Speed just before hitting the ground: \", round(np.sqrt(v_Two.x**2 + v_Two.y**2), 2), \"m/s\")\n",
    "print(\"  Angle of motion at impact: \", round(np.arctan2(v_Two.y, v_Two.x) * 180 / np.pi, 2), \"degrees\")\n",
    "\n",
    "# === PLOTS ===\n",
    "\n",
    "# Plot 1: X vs Time\n",
    "plt.figure()\n",
    "plt.plot(t_list, x_drag, label=\"With Drag\", color=\"blue\")\n",
    "plt.plot(t_list, x_nodrag, label=\"No Drag\", color=\"green\")\n",
    "plt.xlabel(\"Time (s)\")\n",
    "plt.ylabel(\"Horizontal Distance (m)\")\n",
    "plt.title(\"Horizontal Distance vs Time\")\n",
    "plt.legend()\n",
    "plt.grid()\n",
    "plt.show()\n",
    "\n",
    "# Plot 2: Y vs Time\n",
    "plt.figure()\n",
    "plt.plot(t_list, y_drag, label=\"With Drag\", color=\"blue\")\n",
    "plt.plot(t_list, y_nodrag, label=\"No Drag\", color=\"green\")\n",
    "plt.xlabel(\"Time (s)\")\n",
    "plt.ylabel(\"Vertical Height (m)\")\n",
    "plt.title(\"Vertical Height vs Time\")\n",
    "plt.legend()\n",
    "plt.grid()\n",
    "plt.show()\n",
    "\n",
    "# Plot 3: Speed vs Time\n",
    "plt.figure()\n",
    "plt.plot(t_list, v_drag, label=\"With Drag\", color=\"blue\")\n",
    "plt.plot(t_list, v_nodrag, label=\"No Drag\", color=\"green\")\n",
    "plt.xlabel(\"Time (s)\")\n",
    "plt.ylabel(\"Speed (m/s)\")\n",
    "plt.title(\"Speed vs Time\")\n",
    "plt.legend()\n",
    "plt.grid()\n",
    "plt.show()\n"
   ]
  }
 ],
 "metadata": {
  "kernelspec": {
   "display_name": "base",
   "language": "python",
   "name": "python3"
  },
  "language_info": {
   "codemirror_mode": {
    "name": "ipython",
    "version": 3
   },
   "file_extension": ".py",
   "mimetype": "text/x-python",
   "name": "python",
   "nbconvert_exporter": "python",
   "pygments_lexer": "ipython3",
   "version": "3.12.7"
  }
 },
 "nbformat": 4,
 "nbformat_minor": 5
}
